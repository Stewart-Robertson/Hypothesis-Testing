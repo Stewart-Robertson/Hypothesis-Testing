{
 "cells": [
  {
   "cell_type": "markdown",
   "metadata": {
    "toc": true
   },
   "source": [
    "<h1>Table of Contents<span class=\"tocSkip\"></span></h1>\n",
    "<div class=\"toc\"><ul class=\"toc-item\"><li><span><a href=\"#Hypothesis-Testing\" data-toc-modified-id=\"Hypothesis-Testing-1\"><span class=\"toc-item-num\">1&nbsp;&nbsp;</span>Hypothesis Testing</a></span></li><li><span><a href=\"#One-sample-T-test\" data-toc-modified-id=\"One-sample-T-test-2\"><span class=\"toc-item-num\">2&nbsp;&nbsp;</span>One-sample T-test</a></span></li><li><span><a href=\"#Two-sample-T-test\" data-toc-modified-id=\"Two-sample-T-test-3\"><span class=\"toc-item-num\">3&nbsp;&nbsp;</span>Two-sample T-test</a></span></li><li><span><a href=\"#Chi-Square-test\" data-toc-modified-id=\"Chi-Square-test-4\"><span class=\"toc-item-num\">4&nbsp;&nbsp;</span>Chi-Square test</a></span></li></ul></div>"
   ]
  },
  {
   "cell_type": "code",
   "execution_count": 2,
   "metadata": {},
   "outputs": [],
   "source": [
    "import pandas as pd\n",
    "import numpy as np\n",
    "from scipy.stats import ttest_1samp\n",
    "from scipy.stats import ttest_ind\n",
    "from scipy.stats import chi2_contingency"
   ]
  },
  {
   "cell_type": "markdown",
   "metadata": {},
   "source": [
    "# Hypothesis Testing"
   ]
  },
  {
   "cell_type": "markdown",
   "metadata": {},
   "source": [
    "This project is a simple practice implementation of three different hypothesis tests:\n",
    "\n",
    "* One-sample T-test\n",
    "* Two-sample T-test\n",
    "* Chi-Square contingency test\n",
    "\n",
    "The data is for a company that sells two products - vein packs and artery packs - with the aim of extending the lives of those who use the products.\n",
    "\n",
    "In case the packages do not extend users lifespans, the company has planned a contingency. They have sent out a survey to customers to find out their blood iron counts, and categorised them as low, medium, or high. The distribution of responses will also be tested for significance.\n",
    "\n",
    "The hypothesis tests are designed to test whether the product is actually achieving its goal given the distribution of lifespans for the users and some test lifespans.\n",
    "\n",
    "It also aims to establish if there is a significant difference in results for those who use one product vs the other."
   ]
  },
  {
   "cell_type": "code",
   "execution_count": 3,
   "metadata": {},
   "outputs": [],
   "source": [
    "# Load datasets\n",
    "lifespans = pd.read_csv('familiar_lifespan.csv')\n",
    "iron = pd.read_csv('familiar_iron.csv')"
   ]
  },
  {
   "cell_type": "code",
   "execution_count": 4,
   "metadata": {},
   "outputs": [
    {
     "data": {
      "text/html": [
       "<div>\n",
       "<style scoped>\n",
       "    .dataframe tbody tr th:only-of-type {\n",
       "        vertical-align: middle;\n",
       "    }\n",
       "\n",
       "    .dataframe tbody tr th {\n",
       "        vertical-align: top;\n",
       "    }\n",
       "\n",
       "    .dataframe thead th {\n",
       "        text-align: right;\n",
       "    }\n",
       "</style>\n",
       "<table border=\"1\" class=\"dataframe\">\n",
       "  <thead>\n",
       "    <tr style=\"text-align: right;\">\n",
       "      <th></th>\n",
       "      <th>pack</th>\n",
       "      <th>lifespan</th>\n",
       "    </tr>\n",
       "  </thead>\n",
       "  <tbody>\n",
       "    <tr>\n",
       "      <th>0</th>\n",
       "      <td>vein</td>\n",
       "      <td>76.255090</td>\n",
       "    </tr>\n",
       "    <tr>\n",
       "      <th>1</th>\n",
       "      <td>artery</td>\n",
       "      <td>76.404504</td>\n",
       "    </tr>\n",
       "    <tr>\n",
       "      <th>2</th>\n",
       "      <td>artery</td>\n",
       "      <td>75.952442</td>\n",
       "    </tr>\n",
       "    <tr>\n",
       "      <th>3</th>\n",
       "      <td>artery</td>\n",
       "      <td>76.923082</td>\n",
       "    </tr>\n",
       "    <tr>\n",
       "      <th>4</th>\n",
       "      <td>artery</td>\n",
       "      <td>73.771212</td>\n",
       "    </tr>\n",
       "  </tbody>\n",
       "</table>\n",
       "</div>"
      ],
      "text/plain": [
       "     pack   lifespan\n",
       "0    vein  76.255090\n",
       "1  artery  76.404504\n",
       "2  artery  75.952442\n",
       "3  artery  76.923082\n",
       "4  artery  73.771212"
      ]
     },
     "execution_count": 4,
     "metadata": {},
     "output_type": "execute_result"
    }
   ],
   "source": [
    "lifespans.head()"
   ]
  },
  {
   "cell_type": "code",
   "execution_count": 5,
   "metadata": {},
   "outputs": [
    {
     "data": {
      "text/html": [
       "<div>\n",
       "<style scoped>\n",
       "    .dataframe tbody tr th:only-of-type {\n",
       "        vertical-align: middle;\n",
       "    }\n",
       "\n",
       "    .dataframe tbody tr th {\n",
       "        vertical-align: top;\n",
       "    }\n",
       "\n",
       "    .dataframe thead th {\n",
       "        text-align: right;\n",
       "    }\n",
       "</style>\n",
       "<table border=\"1\" class=\"dataframe\">\n",
       "  <thead>\n",
       "    <tr style=\"text-align: right;\">\n",
       "      <th></th>\n",
       "      <th>pack</th>\n",
       "      <th>iron</th>\n",
       "    </tr>\n",
       "  </thead>\n",
       "  <tbody>\n",
       "    <tr>\n",
       "      <th>0</th>\n",
       "      <td>vein</td>\n",
       "      <td>low</td>\n",
       "    </tr>\n",
       "    <tr>\n",
       "      <th>1</th>\n",
       "      <td>artery</td>\n",
       "      <td>normal</td>\n",
       "    </tr>\n",
       "    <tr>\n",
       "      <th>2</th>\n",
       "      <td>artery</td>\n",
       "      <td>normal</td>\n",
       "    </tr>\n",
       "    <tr>\n",
       "      <th>3</th>\n",
       "      <td>artery</td>\n",
       "      <td>normal</td>\n",
       "    </tr>\n",
       "    <tr>\n",
       "      <th>4</th>\n",
       "      <td>artery</td>\n",
       "      <td>high</td>\n",
       "    </tr>\n",
       "  </tbody>\n",
       "</table>\n",
       "</div>"
      ],
      "text/plain": [
       "     pack    iron\n",
       "0    vein     low\n",
       "1  artery  normal\n",
       "2  artery  normal\n",
       "3  artery  normal\n",
       "4  artery    high"
      ]
     },
     "execution_count": 5,
     "metadata": {},
     "output_type": "execute_result"
    }
   ],
   "source": [
    "iron.head()"
   ]
  },
  {
   "cell_type": "code",
   "execution_count": 6,
   "metadata": {},
   "outputs": [],
   "source": [
    "# Save lifespans for vein pack subscribers\n",
    "vein_pack_lifespans = lifespans.lifespan[lifespans.pack=='vein']"
   ]
  },
  {
   "cell_type": "code",
   "execution_count": 7,
   "metadata": {},
   "outputs": [
    {
     "name": "stdout",
     "output_type": "stream",
     "text": [
      "76.16901335636044\n"
     ]
    }
   ],
   "source": [
    "# Calculate average lifespan for vein pack\n",
    "print(np.mean(vein_pack_lifespans))"
   ]
  },
  {
   "cell_type": "markdown",
   "metadata": {},
   "source": [
    "# One-sample T-test"
   ]
  },
  {
   "cell_type": "markdown",
   "metadata": {},
   "source": [
    "This test will show the p-value for a lifespan of 73 for a vein pack subscriber given the distribution of lifespans for all of the vein pack subscribers. As is typical, a p-value < 0.05 would suggest that it is a statistically significant observation having a vein pack subscriber with a lifespan of 73."
   ]
  },
  {
   "cell_type": "code",
   "execution_count": 10,
   "metadata": {},
   "outputs": [
    {
     "name": "stdout",
     "output_type": "stream",
     "text": [
      "5.972157921433082e-07\n"
     ]
    }
   ],
   "source": [
    "# Run one-sample t-test on an observed lifespan of 73 years\n",
    "tstat, pval = ttest_1samp(vein_pack_lifespans, 73)\n",
    "print(pval)"
   ]
  },
  {
   "cell_type": "markdown",
   "metadata": {},
   "source": [
    "This is statistically significant - it is extremely improbable that a vein pack subscriber would have a lifespan of just 73."
   ]
  },
  {
   "cell_type": "code",
   "execution_count": 12,
   "metadata": {},
   "outputs": [],
   "source": [
    "# Save lifespans for artery pack subscribers\n",
    "artery_pack_lifespans = lifespans.lifespan[lifespans.pack=='artery']"
   ]
  },
  {
   "cell_type": "code",
   "execution_count": 13,
   "metadata": {},
   "outputs": [
    {
     "name": "stdout",
     "output_type": "stream",
     "text": [
      "74.8736622351704\n"
     ]
    }
   ],
   "source": [
    "# Calculate artery pack life spans\n",
    "print(np.mean(artery_pack_lifespans))"
   ]
  },
  {
   "cell_type": "markdown",
   "metadata": {},
   "source": [
    "# Two-sample T-test"
   ]
  },
  {
   "cell_type": "markdown",
   "metadata": {},
   "source": [
    "This test will compare the distribution of lifespans for both groups of subscribers and see if there is a significant difference between the two. A p-value < 0.05 would suggest that there is a statistically significant difference in lifespans between the two groups of subscribers."
   ]
  },
  {
   "cell_type": "code",
   "execution_count": 14,
   "metadata": {},
   "outputs": [
    {
     "name": "stdout",
     "output_type": "stream",
     "text": [
      "0.05588883079070819\n"
     ]
    }
   ],
   "source": [
    "# run a two-sample t-test\n",
    "tstat, pval = ttest_ind(vein_pack_lifespans, artery_pack_lifespans)\n",
    "print(pval)"
   ]
  },
  {
   "cell_type": "markdown",
   "metadata": {},
   "source": [
    "This result is jut above the threshold for being classed as statistically significant, i.e. this would be classed as random chance as is.\n",
    "\n",
    "As the result is so close to the threshold, I would recommend that this be repeated soon in the future when more data is collected."
   ]
  },
  {
   "cell_type": "markdown",
   "metadata": {},
   "source": [
    "# Chi-Square test"
   ]
  },
  {
   "cell_type": "markdown",
   "metadata": {},
   "source": [
    "For the survey asking for iron count levels there were:\n",
    "\n",
    "* 200 vein pack responses - 70% low, 20% normal, 10% high\n",
    "* 145 artery pack responses - 20% low, 60% normal, 20% high\n",
    "\n",
    "The aim is to test whether this difference in responses is significant."
   ]
  },
  {
   "cell_type": "code",
   "execution_count": 15,
   "metadata": {},
   "outputs": [
    {
     "name": "stdout",
     "output_type": "stream",
     "text": [
      "iron    high  low  normal\n",
      "pack                     \n",
      "artery    87   29      29\n",
      "vein      20  140      40\n"
     ]
    }
   ],
   "source": [
    "# Create contingency table\n",
    "Xtab = pd.crosstab(iron.pack, iron.iron)\n",
    "print(Xtab)"
   ]
  },
  {
   "cell_type": "code",
   "execution_count": 17,
   "metadata": {},
   "outputs": [
    {
     "name": "stdout",
     "output_type": "stream",
     "text": [
      "9.359749337433008e-25\n"
     ]
    }
   ],
   "source": [
    "# run a Chi-Square test\n",
    "chi2, pval, dof, exp = chi2_contingency(Xtab)\n",
    "print(pval)"
   ]
  },
  {
   "cell_type": "markdown",
   "metadata": {},
   "source": [
    "There is a significant difference in the distribution of responses between the vein pack subscribers and the artery pack subscribers. This is potentially dangerous - the reason for such large numbers of respondents in the vein pack group having low iron levels should be investigated."
   ]
  }
 ],
 "metadata": {
  "kernelspec": {
   "display_name": "Python 3",
   "language": "python",
   "name": "python3"
  },
  "language_info": {
   "codemirror_mode": {
    "name": "ipython",
    "version": 3
   },
   "file_extension": ".py",
   "mimetype": "text/x-python",
   "name": "python",
   "nbconvert_exporter": "python",
   "pygments_lexer": "ipython3",
   "version": "3.7.4"
  },
  "toc": {
   "base_numbering": 1,
   "nav_menu": {},
   "number_sections": true,
   "sideBar": true,
   "skip_h1_title": false,
   "title_cell": "Table of Contents",
   "title_sidebar": "Contents",
   "toc_cell": true,
   "toc_position": {},
   "toc_section_display": true,
   "toc_window_display": true
  },
  "varInspector": {
   "cols": {
    "lenName": 16,
    "lenType": 16,
    "lenVar": 40
   },
   "kernels_config": {
    "python": {
     "delete_cmd_postfix": "",
     "delete_cmd_prefix": "del ",
     "library": "var_list.py",
     "varRefreshCmd": "print(var_dic_list())"
    },
    "r": {
     "delete_cmd_postfix": ") ",
     "delete_cmd_prefix": "rm(",
     "library": "var_list.r",
     "varRefreshCmd": "cat(var_dic_list()) "
    }
   },
   "types_to_exclude": [
    "module",
    "function",
    "builtin_function_or_method",
    "instance",
    "_Feature"
   ],
   "window_display": false
  }
 },
 "nbformat": 4,
 "nbformat_minor": 4
}
