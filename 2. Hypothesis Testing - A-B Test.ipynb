{
 "cells": [
  {
   "cell_type": "markdown",
   "metadata": {
    "toc": true
   },
   "source": [
    "<h1>Table of Contents<span class=\"tocSkip\"></span></h1>\n",
    "<div class=\"toc\"><ul class=\"toc-item\"><li><span><a href=\"#Hypothesis-Testing-with-A/B-Testing\" data-toc-modified-id=\"Hypothesis-Testing-with-A/B-Testing-1\"><span class=\"toc-item-num\">1&nbsp;&nbsp;</span>Hypothesis Testing with A/B Testing</a></span></li><li><span><a href=\"#The-data\" data-toc-modified-id=\"The-data-2\"><span class=\"toc-item-num\">2&nbsp;&nbsp;</span>The data</a></span><ul class=\"toc-item\"><li><span><a href=\"#Ensuring-all-variants-of-the-test-have-the-same-number-of-entries\" data-toc-modified-id=\"Ensuring-all-variants-of-the-test-have-the-same-number-of-entries-2.1\"><span class=\"toc-item-num\">2.1&nbsp;&nbsp;</span>Ensuring all variants of the test have the same number of entries</a></span></li></ul></li><li><span><a href=\"#Test-1---Chi-Square\" data-toc-modified-id=\"Test-1---Chi-Square-3\"><span class=\"toc-item-num\">3&nbsp;&nbsp;</span>Test 1 - Chi-Square</a></span><ul class=\"toc-item\"><li><span><a href=\"#Result---And-an-error\" data-toc-modified-id=\"Result---And-an-error-3.1\"><span class=\"toc-item-num\">3.1&nbsp;&nbsp;</span>Result - And an error</a></span></li><li><span><a href=\"#A-function-to-return-the-significance-level\" data-toc-modified-id=\"A-function-to-return-the-significance-level-3.2\"><span class=\"toc-item-num\">3.2&nbsp;&nbsp;</span>A function to return the significance level</a></span></li></ul></li><li><span><a href=\"#Test-2---Binomial-Test\" data-toc-modified-id=\"Test-2---Binomial-Test-4\"><span class=\"toc-item-num\">4&nbsp;&nbsp;</span>Test 2 - Binomial Test</a></span><ul class=\"toc-item\"><li><span><a href=\"#Calculating-required-success-rates-(probabilities)\" data-toc-modified-id=\"Calculating-required-success-rates-(probabilities)-4.1\"><span class=\"toc-item-num\">4.1&nbsp;&nbsp;</span>Calculating required success rates (probabilities)</a></span></li></ul></li><li><span><a href=\"#Calculating-the-p-values\" data-toc-modified-id=\"Calculating-the-p-values-5\"><span class=\"toc-item-num\">5&nbsp;&nbsp;</span>Calculating the p-values</a></span><ul class=\"toc-item\"><li><span><a href=\"#Significance-for-group-A\" data-toc-modified-id=\"Significance-for-group-A-5.1\"><span class=\"toc-item-num\">5.1&nbsp;&nbsp;</span>Significance for group A</a></span></li><li><span><a href=\"#Significance-for-group-B\" data-toc-modified-id=\"Significance-for-group-B-5.2\"><span class=\"toc-item-num\">5.2&nbsp;&nbsp;</span>Significance for group B</a></span></li><li><span><a href=\"#Significance-for-group-C\" data-toc-modified-id=\"Significance-for-group-C-5.3\"><span class=\"toc-item-num\">5.3&nbsp;&nbsp;</span>Significance for group C</a></span></li></ul></li><li><span><a href=\"#Result\" data-toc-modified-id=\"Result-6\"><span class=\"toc-item-num\">6&nbsp;&nbsp;</span>Result</a></span></li></ul></div>"
   ]
  },
  {
   "cell_type": "code",
   "execution_count": 31,
   "metadata": {},
   "outputs": [],
   "source": [
    "import pandas as pd\n",
    "import numpy as np\n",
    "from scipy.stats import chi2_contingency\n",
    "from scipy.stats import binom_test"
   ]
  },
  {
   "cell_type": "markdown",
   "metadata": {},
   "source": [
    "# Hypothesis Testing with A/B Testing"
   ]
  },
  {
   "cell_type": "markdown",
   "metadata": {},
   "source": [
    "This project focuses on an A/B test for a gaming company. The company is looking to get users to buy an upgrade package but do not know how much to charge for it. As such, they have tested it using three different price points:\n",
    "\n",
    "* Group A - upgrade for **£0.99**\n",
    "* Group B - upgrade for **£1.99**\n",
    "* Group C - upgrade for **£4.99**\n",
    "\n",
    "The aim is to generate at least £1,000 per week from people choosing to upgrade.\n",
    "\n",
    "Hypothesis testing will be used to determine which price point is the best to achieve the goal."
   ]
  },
  {
   "cell_type": "markdown",
   "metadata": {},
   "source": [
    "# The data"
   ]
  },
  {
   "cell_type": "code",
   "execution_count": 32,
   "metadata": {},
   "outputs": [
    {
     "name": "stdout",
     "output_type": "stream",
     "text": [
      "    user_id group is_purchase\n",
      "0  8e27bf9a     A          No\n",
      "1  eb89e6f0     A          No\n",
      "2  7119106a     A          No\n",
      "3  e53781ff     A          No\n",
      "4  02d48cf1     A         Yes\n"
     ]
    }
   ],
   "source": [
    "# Read in the clicks.csv file\n",
    "abdata = pd.read_csv('clicks.csv')\n",
    "print(abdata.head())"
   ]
  },
  {
   "cell_type": "code",
   "execution_count": 33,
   "metadata": {},
   "outputs": [
    {
     "data": {
      "text/plain": [
       "(4998, 3)"
      ]
     },
     "execution_count": 33,
     "metadata": {},
     "output_type": "execute_result"
    }
   ],
   "source": [
    "abdata.shape"
   ]
  },
  {
   "cell_type": "markdown",
   "metadata": {},
   "source": [
    "## Ensuring all variants of the test have the same number of entries"
   ]
  },
  {
   "cell_type": "code",
   "execution_count": 34,
   "metadata": {},
   "outputs": [],
   "source": [
    "group_a = abdata[abdata['group'] == 'A']\n",
    "group_b = abdata[abdata['group'] == 'B']\n",
    "group_c = abdata[abdata['group'] == 'C']"
   ]
  },
  {
   "cell_type": "code",
   "execution_count": 35,
   "metadata": {},
   "outputs": [
    {
     "data": {
      "text/plain": [
       "((1666, 3), (1666, 3), (1666, 3))"
      ]
     },
     "execution_count": 35,
     "metadata": {},
     "output_type": "execute_result"
    }
   ],
   "source": [
    "group_a.shape, group_b.shape, group_c.shape"
   ]
  },
  {
   "cell_type": "markdown",
   "metadata": {},
   "source": [
    "# Test 1 - Chi-Square"
   ]
  },
  {
   "cell_type": "code",
   "execution_count": 36,
   "metadata": {},
   "outputs": [
    {
     "data": {
      "text/html": [
       "<div>\n",
       "<style scoped>\n",
       "    .dataframe tbody tr th:only-of-type {\n",
       "        vertical-align: middle;\n",
       "    }\n",
       "\n",
       "    .dataframe tbody tr th {\n",
       "        vertical-align: top;\n",
       "    }\n",
       "\n",
       "    .dataframe thead th {\n",
       "        text-align: right;\n",
       "    }\n",
       "</style>\n",
       "<table border=\"1\" class=\"dataframe\">\n",
       "  <thead>\n",
       "    <tr style=\"text-align: right;\">\n",
       "      <th>is_purchase</th>\n",
       "      <th>No</th>\n",
       "      <th>Yes</th>\n",
       "    </tr>\n",
       "    <tr>\n",
       "      <th>group</th>\n",
       "      <th></th>\n",
       "      <th></th>\n",
       "    </tr>\n",
       "  </thead>\n",
       "  <tbody>\n",
       "    <tr>\n",
       "      <th>A</th>\n",
       "      <td>1350</td>\n",
       "      <td>316</td>\n",
       "    </tr>\n",
       "    <tr>\n",
       "      <th>B</th>\n",
       "      <td>1483</td>\n",
       "      <td>183</td>\n",
       "    </tr>\n",
       "    <tr>\n",
       "      <th>C</th>\n",
       "      <td>1583</td>\n",
       "      <td>83</td>\n",
       "    </tr>\n",
       "  </tbody>\n",
       "</table>\n",
       "</div>"
      ],
      "text/plain": [
       "is_purchase    No  Yes\n",
       "group                 \n",
       "A            1350  316\n",
       "B            1483  183\n",
       "C            1583   83"
      ]
     },
     "execution_count": 36,
     "metadata": {},
     "output_type": "execute_result"
    }
   ],
   "source": [
    "# Creating a contingency table with pd.crosstab\n",
    "Xtab = pd.crosstab(abdata.group, abdata.is_purchase)\n",
    "Xtab"
   ]
  },
  {
   "cell_type": "code",
   "execution_count": 37,
   "metadata": {},
   "outputs": [
    {
     "data": {
      "text/plain": [
       "2.4126213546684264e-35"
      ]
     },
     "execution_count": 37,
     "metadata": {},
     "output_type": "execute_result"
    }
   ],
   "source": [
    "# Calculate the p-value using a Chi-Square test\n",
    "chi2, pval, dof, expected = chi2_contingency(Xtab)\n",
    "pval"
   ]
  },
  {
   "cell_type": "markdown",
   "metadata": {},
   "source": [
    "## Result - And an error"
   ]
  },
  {
   "cell_type": "markdown",
   "metadata": {},
   "source": [
    "The Chi-Square test is inappropriate to use in this scenario because it is testing the distributions of Yes/No outcomes for each group, i.e. it does not account for the probabilities of each outcome for each group.\n",
    "\n",
    "It is extremely probable that many more users will buy the upgrade when it is priced at £0.99 vs £4.99."
   ]
  },
  {
   "cell_type": "markdown",
   "metadata": {},
   "source": [
    "## A function to return the significance level"
   ]
  },
  {
   "cell_type": "code",
   "execution_count": 38,
   "metadata": {},
   "outputs": [],
   "source": [
    "def is_significant(pvalue):\n",
    "    if pvalue < 0.05 and pvalue > 0:\n",
    "        return True\n",
    "    elif pvalue >= 0.05 and pvalue < 1:\n",
    "        return False\n",
    "    else:\n",
    "        print('There is an error with the pvalue; please make sure it is numeric, and between zero and 1')\n",
    "    return None"
   ]
  },
  {
   "cell_type": "code",
   "execution_count": 39,
   "metadata": {},
   "outputs": [
    {
     "name": "stdout",
     "output_type": "stream",
     "text": [
      "True\n"
     ]
    }
   ],
   "source": [
    "print(is_significant(pval))"
   ]
  },
  {
   "cell_type": "markdown",
   "metadata": {},
   "source": [
    "# Test 2 - Binomial Test"
   ]
  },
  {
   "cell_type": "markdown",
   "metadata": {},
   "source": [
    "Whether a user chooses to buy the upgrade or not is binary, and so a binomial test is suitable.\n",
    "\n",
    "However, this tests requires the probability of \"success\" vs \"failure\" is known.\n",
    "\n",
    "These probabilities can be calculated for each of the test variants using the required success rate to satisfy the £1000/week requirement at each price point."
   ]
  },
  {
   "cell_type": "markdown",
   "metadata": {},
   "source": [
    "## Calculating required success rates (probabilities)"
   ]
  },
  {
   "cell_type": "markdown",
   "metadata": {},
   "source": [
    "We have 1666 customers in each group, and we know the amount of money must be made per week at a minimum to be considered successful i.e. £1000."
   ]
  },
  {
   "cell_type": "code",
   "execution_count": 40,
   "metadata": {},
   "outputs": [
    {
     "data": {
      "text/plain": [
       "4998"
      ]
     },
     "execution_count": 40,
     "metadata": {},
     "output_type": "execute_result"
    }
   ],
   "source": [
    "# finding the number of visits\n",
    "num_visits = len(abdata)\n",
    "num_visits"
   ]
  },
  {
   "cell_type": "code",
   "execution_count": 62,
   "metadata": {},
   "outputs": [
    {
     "data": {
      "text/plain": [
       "0.20210104243717691"
      ]
     },
     "execution_count": 62,
     "metadata": {},
     "output_type": "execute_result"
    }
   ],
   "source": [
    "# Calculating the purchase rate needed at 0.99 to satisfy the £1000/week minimum target\n",
    "num_sales_needed_099 = 1000/0.99\n",
    "p_sales_needed_099 = num_sales_needed_099/num_visits\n",
    "p_sales_needed_099 # this is the required probability of success for this variant"
   ]
  },
  {
   "cell_type": "code",
   "execution_count": 42,
   "metadata": {},
   "outputs": [
    {
     "data": {
      "text/plain": [
       "0.10054272965467594"
      ]
     },
     "execution_count": 42,
     "metadata": {},
     "output_type": "execute_result"
    }
   ],
   "source": [
    "# Calculating the purchase rate needed at £1.99\n",
    "num_sales_needed_199 = 1000/1.99\n",
    "p_sales_needed_199 = num_sales_needed_199/num_visits\n",
    "p_sales_needed_199"
   ]
  },
  {
   "cell_type": "code",
   "execution_count": 43,
   "metadata": {},
   "outputs": [
    {
     "data": {
      "text/plain": [
       "0.040096198800161346"
      ]
     },
     "execution_count": 43,
     "metadata": {},
     "output_type": "execute_result"
    }
   ],
   "source": [
    "# Calculating the purchase rate needed at £4.99\n",
    "num_sales_needed_499 = 1000/4.99\n",
    "p_sales_needed_499 = num_sales_needed_499/num_visits\n",
    "p_sales_needed_499"
   ]
  },
  {
   "cell_type": "code",
   "execution_count": 44,
   "metadata": {},
   "outputs": [],
   "source": [
    "# Calculating sample size & sales for £0.99 price point\n",
    "samp_size_099 = np.sum(abdata.group == 'A')\n",
    "sales_099 = np.sum((abdata.group == 'A') & (abdata.is_purchase == 'Yes'))"
   ]
  },
  {
   "cell_type": "code",
   "execution_count": 45,
   "metadata": {},
   "outputs": [
    {
     "name": "stdout",
     "output_type": "stream",
     "text": [
      "1666\n",
      "316\n"
     ]
    }
   ],
   "source": [
    "print(samp_size_099)\n",
    "print(sales_099)"
   ]
  },
  {
   "cell_type": "code",
   "execution_count": 46,
   "metadata": {},
   "outputs": [],
   "source": [
    "# Calculating sample size & sales for £1.99 price point\n",
    "samp_size_199 = np.sum(abdata.group == 'B')\n",
    "sales_199 = np.sum((abdata.group == 'B') & (abdata.is_purchase == 'Yes'))"
   ]
  },
  {
   "cell_type": "code",
   "execution_count": 47,
   "metadata": {},
   "outputs": [
    {
     "name": "stdout",
     "output_type": "stream",
     "text": [
      "1666\n",
      "183\n"
     ]
    }
   ],
   "source": [
    "print(samp_size_199)\n",
    "print(sales_199)"
   ]
  },
  {
   "cell_type": "code",
   "execution_count": 48,
   "metadata": {},
   "outputs": [],
   "source": [
    "# Calculating sample size & sales for £4.99 price point\n",
    "samp_size_499 = np.sum(abdata.group == 'C')\n",
    "sales_499 = np.sum((abdata.group == 'C') & (abdata.is_purchase == 'Yes'))"
   ]
  },
  {
   "cell_type": "code",
   "execution_count": 49,
   "metadata": {},
   "outputs": [
    {
     "name": "stdout",
     "output_type": "stream",
     "text": [
      "1666\n",
      "83\n"
     ]
    }
   ],
   "source": [
    "print(samp_size_499)\n",
    "print(sales_499)"
   ]
  },
  {
   "cell_type": "markdown",
   "metadata": {},
   "source": [
    "# Calculating the p-values"
   ]
  },
  {
   "cell_type": "markdown",
   "metadata": {},
   "source": [
    "Now that we have each of the required success rates, we can put them into the binomial test function and calculate the p-values for each variant of the test given the actual sales made in each group.\n",
    "\n",
    "**The null hypothesis**:\n",
    "\n",
    "The results seen are the maximum conversions that will occur for each price point. \n",
    "\n",
    "**The alternative hypothesis**: \n",
    "\n",
    "In reality, a greater conversion rate will be seen for each price point."
   ]
  },
  {
   "cell_type": "markdown",
   "metadata": {},
   "source": [
    "## Significance for group A"
   ]
  },
  {
   "cell_type": "code",
   "execution_count": 50,
   "metadata": {},
   "outputs": [
    {
     "data": {
      "text/plain": [
       "0.9028081076188985"
      ]
     },
     "execution_count": 50,
     "metadata": {},
     "output_type": "execute_result"
    }
   ],
   "source": [
    "pvalueA = binom_test(sales_099, n=samp_size_099, p=p_sales_needed_099, alternative='greater')\n",
    "pvalueA"
   ]
  },
  {
   "cell_type": "markdown",
   "metadata": {},
   "source": [
    "## Significance for group B"
   ]
  },
  {
   "cell_type": "code",
   "execution_count": 51,
   "metadata": {},
   "outputs": [
    {
     "data": {
      "text/plain": [
       "0.11184562623739903"
      ]
     },
     "execution_count": 51,
     "metadata": {},
     "output_type": "execute_result"
    }
   ],
   "source": [
    "pvalueB = binom_test(sales_199, n=samp_size_199, p=p_sales_needed_199, alternative='greater')\n",
    "pvalueB"
   ]
  },
  {
   "cell_type": "markdown",
   "metadata": {},
   "source": [
    "## Significance for group C"
   ]
  },
  {
   "cell_type": "code",
   "execution_count": 52,
   "metadata": {},
   "outputs": [
    {
     "data": {
      "text/plain": [
       "0.027944826659907135"
      ]
     },
     "execution_count": 52,
     "metadata": {},
     "output_type": "execute_result"
    }
   ],
   "source": [
    "pvalueC = binom_test(sales_499, n=samp_size_499, p=p_sales_needed_499, alternative='greater')\n",
    "pvalueC"
   ]
  },
  {
   "cell_type": "markdown",
   "metadata": {},
   "source": [
    "# Result"
   ]
  },
  {
   "cell_type": "code",
   "execution_count": 53,
   "metadata": {},
   "outputs": [
    {
     "name": "stdout",
     "output_type": "stream",
     "text": [
      "False\n",
      "False\n",
      "True\n"
     ]
    }
   ],
   "source": [
    "print(is_significant(pvalueA))\n",
    "print(is_significant(pvalueB))\n",
    "print(is_significant(pvalueC))"
   ]
  },
  {
   "cell_type": "code",
   "execution_count": 54,
   "metadata": {},
   "outputs": [
    {
     "data": {
      "text/html": [
       "<div>\n",
       "<style scoped>\n",
       "    .dataframe tbody tr th:only-of-type {\n",
       "        vertical-align: middle;\n",
       "    }\n",
       "\n",
       "    .dataframe tbody tr th {\n",
       "        vertical-align: top;\n",
       "    }\n",
       "\n",
       "    .dataframe thead th {\n",
       "        text-align: right;\n",
       "    }\n",
       "</style>\n",
       "<table border=\"1\" class=\"dataframe\">\n",
       "  <thead>\n",
       "    <tr style=\"text-align: right;\">\n",
       "      <th>is_purchase</th>\n",
       "      <th>No</th>\n",
       "      <th>Yes</th>\n",
       "    </tr>\n",
       "    <tr>\n",
       "      <th>group</th>\n",
       "      <th></th>\n",
       "      <th></th>\n",
       "    </tr>\n",
       "  </thead>\n",
       "  <tbody>\n",
       "    <tr>\n",
       "      <th>A</th>\n",
       "      <td>1350</td>\n",
       "      <td>316</td>\n",
       "    </tr>\n",
       "    <tr>\n",
       "      <th>B</th>\n",
       "      <td>1483</td>\n",
       "      <td>183</td>\n",
       "    </tr>\n",
       "    <tr>\n",
       "      <th>C</th>\n",
       "      <td>1583</td>\n",
       "      <td>83</td>\n",
       "    </tr>\n",
       "  </tbody>\n",
       "</table>\n",
       "</div>"
      ],
      "text/plain": [
       "is_purchase    No  Yes\n",
       "group                 \n",
       "A            1350  316\n",
       "B            1483  183\n",
       "C            1583   83"
      ]
     },
     "execution_count": 54,
     "metadata": {},
     "output_type": "execute_result"
    }
   ],
   "source": [
    "Xtab"
   ]
  },
  {
   "cell_type": "code",
   "execution_count": 61,
   "metadata": {},
   "outputs": [
    {
     "name": "stdout",
     "output_type": "stream",
     "text": [
      "money generated from variant A: £312.84\n",
      "money generated from variant B: £628.84\n",
      "money generated from variant C: £1576.8400000000001\n"
     ]
    }
   ],
   "source": [
    "revenue_a = Xtab['Yes'][0] * 0.99\n",
    "revenue_b = Xtab['Yes'][0] * 1.99\n",
    "revenue_c = Xtab['Yes'][0] * 4.99\n",
    "print(\"money generated from variant A: £{}\".format(revenue_a))\n",
    "print(\"money generated from variant B: £{}\" .format(revenue_b))\n",
    "print(\"money generated from variant C: £{}\" .format(revenue_c))"
   ]
  },
  {
   "cell_type": "markdown",
   "metadata": {},
   "source": [
    "So, group C has the best price point to maximise profits for the company. It is the only one for which we can reject the null hypothesis and accept the alternative hypothesis - that in reality, we can expect more customers to buy the upgrade than did in the test.\n",
    "\n",
    "Group C already made the most money by more than a factor of 2, so when this is combined with the result of the hypothesis test it is the clear winner."
   ]
  }
 ],
 "metadata": {
  "kernelspec": {
   "display_name": "Python 3",
   "language": "python",
   "name": "python3"
  },
  "language_info": {
   "codemirror_mode": {
    "name": "ipython",
    "version": 3
   },
   "file_extension": ".py",
   "mimetype": "text/x-python",
   "name": "python",
   "nbconvert_exporter": "python",
   "pygments_lexer": "ipython3",
   "version": "3.7.4"
  },
  "toc": {
   "base_numbering": 1,
   "nav_menu": {},
   "number_sections": true,
   "sideBar": true,
   "skip_h1_title": false,
   "title_cell": "Table of Contents",
   "title_sidebar": "Contents",
   "toc_cell": true,
   "toc_position": {},
   "toc_section_display": true,
   "toc_window_display": true
  },
  "varInspector": {
   "cols": {
    "lenName": 16,
    "lenType": 16,
    "lenVar": 40
   },
   "kernels_config": {
    "python": {
     "delete_cmd_postfix": "",
     "delete_cmd_prefix": "del ",
     "library": "var_list.py",
     "varRefreshCmd": "print(var_dic_list())"
    },
    "r": {
     "delete_cmd_postfix": ") ",
     "delete_cmd_prefix": "rm(",
     "library": "var_list.r",
     "varRefreshCmd": "cat(var_dic_list()) "
    }
   },
   "types_to_exclude": [
    "module",
    "function",
    "builtin_function_or_method",
    "instance",
    "_Feature"
   ],
   "window_display": false
  }
 },
 "nbformat": 4,
 "nbformat_minor": 4
}
