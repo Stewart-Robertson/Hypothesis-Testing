{
 "cells": [
  {
   "cell_type": "markdown",
   "metadata": {
    "toc": true
   },
   "source": [
    "<h1>Table of Contents<span class=\"tocSkip\"></span></h1>\n",
    "<div class=\"toc\"><ul class=\"toc-item\"><li><span><a href=\"#Hypothesis-Testing---App-startup\" data-toc-modified-id=\"Hypothesis-Testing---App-startup-1\"><span class=\"toc-item-num\">1&nbsp;&nbsp;</span>Hypothesis Testing - App startup</a></span></li><li><span><a href=\"#Whippet-rescues---binomial-test\" data-toc-modified-id=\"Whippet-rescues---binomial-test-2\"><span class=\"toc-item-num\">2&nbsp;&nbsp;</span>Whippet rescues - binomial test</a></span></li><li><span><a href=\"#Significance-of-weights---ANOVA\" data-toc-modified-id=\"Significance-of-weights---ANOVA-3\"><span class=\"toc-item-num\">3&nbsp;&nbsp;</span>Significance of weights - ANOVA</a></span></li><li><span><a href=\"#Which-breed-is-significantly-different?---Tukey's-Pairwise-test\" data-toc-modified-id=\"Which-breed-is-significantly-different?---Tukey's-Pairwise-test-4\"><span class=\"toc-item-num\">4&nbsp;&nbsp;</span>Which breed is significantly different? - Tukey's Pairwise test</a></span></li><li><span><a href=\"#Significance-of-colour-with-each-dog-breed---Chi-Squared-test\" data-toc-modified-id=\"Significance-of-colour-with-each-dog-breed---Chi-Squared-test-5\"><span class=\"toc-item-num\">5&nbsp;&nbsp;</span>Significance of colour with each dog breed - Chi-Squared test</a></span></li></ul></div>"
   ]
  },
  {
   "cell_type": "code",
   "execution_count": 1,
   "metadata": {},
   "outputs": [],
   "source": [
    "import numpy as np\n",
    "import pandas as pd\n",
    "from scipy.stats import binom_test\n",
    "from scipy.stats import f_oneway\n",
    "from statsmodels.stats.multicomp import pairwise_tukeyhsd\n",
    "from scipy.stats import chi2_contingency"
   ]
  },
  {
   "cell_type": "markdown",
   "metadata": {},
   "source": [
    "# Hypothesis Testing - App startup"
   ]
  },
  {
   "cell_type": "markdown",
   "metadata": {},
   "source": [
    "This project uses data from a tech startup that looks to match dogs with prospective owners.\n",
    "\n",
    "The aim is to do some general analysis on the data for the dogs in the system, and put into practice some hypothesis tests."
   ]
  },
  {
   "cell_type": "code",
   "execution_count": 3,
   "metadata": {},
   "outputs": [
    {
     "data": {
      "text/html": [
       "<div>\n",
       "<style scoped>\n",
       "    .dataframe tbody tr th:only-of-type {\n",
       "        vertical-align: middle;\n",
       "    }\n",
       "\n",
       "    .dataframe tbody tr th {\n",
       "        vertical-align: top;\n",
       "    }\n",
       "\n",
       "    .dataframe thead th {\n",
       "        text-align: right;\n",
       "    }\n",
       "</style>\n",
       "<table border=\"1\" class=\"dataframe\">\n",
       "  <thead>\n",
       "    <tr style=\"text-align: right;\">\n",
       "      <th></th>\n",
       "      <th>is_rescue</th>\n",
       "      <th>weight</th>\n",
       "      <th>tail_length</th>\n",
       "      <th>age</th>\n",
       "      <th>color</th>\n",
       "      <th>likes_children</th>\n",
       "      <th>is_hypoallergenic</th>\n",
       "      <th>name</th>\n",
       "      <th>breed</th>\n",
       "    </tr>\n",
       "  </thead>\n",
       "  <tbody>\n",
       "    <tr>\n",
       "      <th>0</th>\n",
       "      <td>0</td>\n",
       "      <td>6</td>\n",
       "      <td>2.25</td>\n",
       "      <td>2</td>\n",
       "      <td>black</td>\n",
       "      <td>1</td>\n",
       "      <td>0</td>\n",
       "      <td>Huey</td>\n",
       "      <td>chihuahua</td>\n",
       "    </tr>\n",
       "    <tr>\n",
       "      <th>1</th>\n",
       "      <td>0</td>\n",
       "      <td>4</td>\n",
       "      <td>5.36</td>\n",
       "      <td>4</td>\n",
       "      <td>black</td>\n",
       "      <td>0</td>\n",
       "      <td>0</td>\n",
       "      <td>Cherish</td>\n",
       "      <td>chihuahua</td>\n",
       "    </tr>\n",
       "    <tr>\n",
       "      <th>2</th>\n",
       "      <td>0</td>\n",
       "      <td>7</td>\n",
       "      <td>3.63</td>\n",
       "      <td>3</td>\n",
       "      <td>black</td>\n",
       "      <td>0</td>\n",
       "      <td>1</td>\n",
       "      <td>Becka</td>\n",
       "      <td>chihuahua</td>\n",
       "    </tr>\n",
       "    <tr>\n",
       "      <th>3</th>\n",
       "      <td>0</td>\n",
       "      <td>5</td>\n",
       "      <td>0.19</td>\n",
       "      <td>2</td>\n",
       "      <td>black</td>\n",
       "      <td>0</td>\n",
       "      <td>0</td>\n",
       "      <td>Addie</td>\n",
       "      <td>chihuahua</td>\n",
       "    </tr>\n",
       "    <tr>\n",
       "      <th>4</th>\n",
       "      <td>0</td>\n",
       "      <td>5</td>\n",
       "      <td>0.37</td>\n",
       "      <td>1</td>\n",
       "      <td>black</td>\n",
       "      <td>1</td>\n",
       "      <td>1</td>\n",
       "      <td>Beverlee</td>\n",
       "      <td>chihuahua</td>\n",
       "    </tr>\n",
       "  </tbody>\n",
       "</table>\n",
       "</div>"
      ],
      "text/plain": [
       "   is_rescue  weight  tail_length  age  color  likes_children  \\\n",
       "0          0       6         2.25    2  black               1   \n",
       "1          0       4         5.36    4  black               0   \n",
       "2          0       7         3.63    3  black               0   \n",
       "3          0       5         0.19    2  black               0   \n",
       "4          0       5         0.37    1  black               1   \n",
       "\n",
       "   is_hypoallergenic      name      breed  \n",
       "0                  0      Huey  chihuahua  \n",
       "1                  0   Cherish  chihuahua  \n",
       "2                  1     Becka  chihuahua  \n",
       "3                  0     Addie  chihuahua  \n",
       "4                  1  Beverlee  chihuahua  "
      ]
     },
     "execution_count": 3,
     "metadata": {},
     "output_type": "execute_result"
    }
   ],
   "source": [
    "dogs = pd.read_csv('dog_data.csv')\n",
    "dogs.head()"
   ]
  },
  {
   "cell_type": "code",
   "execution_count": 4,
   "metadata": {},
   "outputs": [
    {
     "data": {
      "text/plain": [
       "800"
      ]
     },
     "execution_count": 4,
     "metadata": {},
     "output_type": "execute_result"
    }
   ],
   "source": [
    "len(dogs)"
   ]
  },
  {
   "cell_type": "markdown",
   "metadata": {},
   "source": [
    "# Whippet rescues - binomial test"
   ]
  },
  {
   "cell_type": "markdown",
   "metadata": {},
   "source": [
    "If typically we expect 8% of the dogs on the platform, then we can find whether some dogs are significantly more likely to be rescues than average.\n",
    "\n",
    "Looking at whippets:"
   ]
  },
  {
   "cell_type": "code",
   "execution_count": 5,
   "metadata": {},
   "outputs": [
    {
     "name": "stdout",
     "output_type": "stream",
     "text": [
      "6\n"
     ]
    }
   ],
   "source": [
    "whippet_rescue = dogs.is_rescue[dogs.breed == 'whippet']\n",
    "num_whippet_rescues = np.sum(whippet_rescue == 1)\n",
    "print(num_whippet_rescues)"
   ]
  },
  {
   "cell_type": "code",
   "execution_count": 6,
   "metadata": {},
   "outputs": [
    {
     "name": "stdout",
     "output_type": "stream",
     "text": [
      "100\n"
     ]
    }
   ],
   "source": [
    "num_whippets = len(whippet_rescue)\n",
    "print(num_whippets)"
   ]
  },
  {
   "cell_type": "code",
   "execution_count": 7,
   "metadata": {},
   "outputs": [
    {
     "name": "stdout",
     "output_type": "stream",
     "text": [
      "0.5811780106238098\n"
     ]
    }
   ],
   "source": [
    "# running a binomial test on the number of whippets being rescues\n",
    "pval = binom_test(num_whippet_rescues, num_whippets, 0.08)\n",
    "print(pval)"
   ]
  },
  {
   "cell_type": "markdown",
   "metadata": {},
   "source": [
    "There is no significance to the number of whippets that are rescues as the p-value is 0.58, and the significance threshold is p<0.05."
   ]
  },
  {
   "cell_type": "markdown",
   "metadata": {},
   "source": [
    "# Significance of weights - ANOVA"
   ]
  },
  {
   "cell_type": "markdown",
   "metadata": {},
   "source": [
    "We can run analysis of variance (ANOVA) for some dog breeds' weights to see if there is significance in the difference in weights among these breeds."
   ]
  },
  {
   "cell_type": "code",
   "execution_count": 8,
   "metadata": {},
   "outputs": [],
   "source": [
    "wt_whippets = dogs.weight[dogs.breed == 'whippet']\n",
    "wt_terriers = dogs.weight[dogs.breed == 'terrier']\n",
    "wt_pitbulls = dogs.weight[dogs.breed == 'pitbull']"
   ]
  },
  {
   "cell_type": "code",
   "execution_count": 9,
   "metadata": {},
   "outputs": [
    {
     "name": "stdout",
     "output_type": "stream",
     "text": [
      "3.276415588274815e-17\n"
     ]
    }
   ],
   "source": [
    "# running ANOVA on the dog weights\n",
    "Fstat, pval = f_oneway(wt_whippets, wt_terriers, wt_pitbulls)\n",
    "print(pval)"
   ]
  },
  {
   "cell_type": "code",
   "execution_count": 10,
   "metadata": {},
   "outputs": [],
   "source": [
    "# Subset to just whippets, terriers, and pitbulls\n",
    "dogs_wtp = dogs[dogs.breed.isin(['whippet', 'terrier', 'pitbull'])]"
   ]
  },
  {
   "cell_type": "markdown",
   "metadata": {},
   "source": [
    "# Which breed is significantly different? - Tukey's Pairwise test"
   ]
  },
  {
   "cell_type": "markdown",
   "metadata": {},
   "source": [
    "This will expand on the previous test that showed that there is a significance between the dog weights, and will show exactly which breed(s) are the most different relative to each other."
   ]
  },
  {
   "cell_type": "code",
   "execution_count": 11,
   "metadata": {},
   "outputs": [
    {
     "name": "stdout",
     "output_type": "stream",
     "text": [
      " Multiple Comparison of Means - Tukey HSD, FWER=0.05 \n",
      "=====================================================\n",
      " group1  group2 meandiff p-adj   lower  upper  reject\n",
      "-----------------------------------------------------\n",
      "pitbull terrier   -13.24  0.001 -16.728 -9.752   True\n",
      "pitbull whippet    -3.34 0.0639  -6.828  0.148  False\n",
      "terrier whippet      9.9  0.001   6.412 13.388   True\n",
      "-----------------------------------------------------\n"
     ]
    }
   ],
   "source": [
    "# Run a Tukey's Range test\n",
    "output = pairwise_tukeyhsd(dogs_wtp.weight, dogs_wtp.breed)\n",
    "print(output)"
   ]
  },
  {
   "cell_type": "markdown",
   "metadata": {},
   "source": [
    "As can be seen, the pitbull and whippet breeds are not significantly different in weight, but the pitbull vs terrier and terrier vs whippet weights are significantly different."
   ]
  },
  {
   "cell_type": "markdown",
   "metadata": {},
   "source": [
    "# Significance of colour with each dog breed - Chi-Squared test"
   ]
  },
  {
   "cell_type": "code",
   "execution_count": 12,
   "metadata": {},
   "outputs": [],
   "source": [
    "# Subset to just poodles and shihtzus\n",
    "dogs_ps = dogs[dogs.breed.isin(['poodle', 'shihtzu'])]"
   ]
  },
  {
   "cell_type": "code",
   "execution_count": 14,
   "metadata": {},
   "outputs": [
    {
     "data": {
      "text/html": [
       "<div>\n",
       "<style scoped>\n",
       "    .dataframe tbody tr th:only-of-type {\n",
       "        vertical-align: middle;\n",
       "    }\n",
       "\n",
       "    .dataframe tbody tr th {\n",
       "        vertical-align: top;\n",
       "    }\n",
       "\n",
       "    .dataframe thead th {\n",
       "        text-align: right;\n",
       "    }\n",
       "</style>\n",
       "<table border=\"1\" class=\"dataframe\">\n",
       "  <thead>\n",
       "    <tr style=\"text-align: right;\">\n",
       "      <th>breed</th>\n",
       "      <th>poodle</th>\n",
       "      <th>shihtzu</th>\n",
       "    </tr>\n",
       "    <tr>\n",
       "      <th>color</th>\n",
       "      <th></th>\n",
       "      <th></th>\n",
       "    </tr>\n",
       "  </thead>\n",
       "  <tbody>\n",
       "    <tr>\n",
       "      <th>black</th>\n",
       "      <td>17</td>\n",
       "      <td>10</td>\n",
       "    </tr>\n",
       "    <tr>\n",
       "      <th>brown</th>\n",
       "      <td>13</td>\n",
       "      <td>36</td>\n",
       "    </tr>\n",
       "    <tr>\n",
       "      <th>gold</th>\n",
       "      <td>8</td>\n",
       "      <td>6</td>\n",
       "    </tr>\n",
       "    <tr>\n",
       "      <th>grey</th>\n",
       "      <td>52</td>\n",
       "      <td>41</td>\n",
       "    </tr>\n",
       "    <tr>\n",
       "      <th>white</th>\n",
       "      <td>10</td>\n",
       "      <td>7</td>\n",
       "    </tr>\n",
       "  </tbody>\n",
       "</table>\n",
       "</div>"
      ],
      "text/plain": [
       "breed  poodle  shihtzu\n",
       "color                 \n",
       "black      17       10\n",
       "brown      13       36\n",
       "gold        8        6\n",
       "grey       52       41\n",
       "white      10        7"
      ]
     },
     "execution_count": 14,
     "metadata": {},
     "output_type": "execute_result"
    }
   ],
   "source": [
    "# Create a contingency table of color vs. breed\n",
    "Xtab = pd.crosstab(dogs_ps.color, dogs_ps.breed)\n",
    "Xtab"
   ]
  },
  {
   "cell_type": "code",
   "execution_count": 15,
   "metadata": {},
   "outputs": [
    {
     "name": "stdout",
     "output_type": "stream",
     "text": [
      "0.005302408293244593\n"
     ]
    }
   ],
   "source": [
    "# Run a Chi-Square test\n",
    "chi2, pval, dof, exp = chi2_contingency(Xtab)\n",
    "print(pval)"
   ]
  },
  {
   "cell_type": "markdown",
   "metadata": {},
   "source": [
    "This a p-value that is lower than the threshold 0.05 level, i.e. this is statistically significant. In other words, the colour of a dog breed is heavily dependent on the breed."
   ]
  }
 ],
 "metadata": {
  "kernelspec": {
   "display_name": "Python 3",
   "language": "python",
   "name": "python3"
  },
  "language_info": {
   "codemirror_mode": {
    "name": "ipython",
    "version": 3
   },
   "file_extension": ".py",
   "mimetype": "text/x-python",
   "name": "python",
   "nbconvert_exporter": "python",
   "pygments_lexer": "ipython3",
   "version": "3.7.4"
  },
  "toc": {
   "base_numbering": 1,
   "nav_menu": {},
   "number_sections": true,
   "sideBar": true,
   "skip_h1_title": false,
   "title_cell": "Table of Contents",
   "title_sidebar": "Contents",
   "toc_cell": true,
   "toc_position": {},
   "toc_section_display": true,
   "toc_window_display": true
  },
  "varInspector": {
   "cols": {
    "lenName": 16,
    "lenType": 16,
    "lenVar": 40
   },
   "kernels_config": {
    "python": {
     "delete_cmd_postfix": "",
     "delete_cmd_prefix": "del ",
     "library": "var_list.py",
     "varRefreshCmd": "print(var_dic_list())"
    },
    "r": {
     "delete_cmd_postfix": ") ",
     "delete_cmd_prefix": "rm(",
     "library": "var_list.r",
     "varRefreshCmd": "cat(var_dic_list()) "
    }
   },
   "types_to_exclude": [
    "module",
    "function",
    "builtin_function_or_method",
    "instance",
    "_Feature"
   ],
   "window_display": false
  }
 },
 "nbformat": 4,
 "nbformat_minor": 4
}
