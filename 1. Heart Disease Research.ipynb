{
 "cells": [
  {
   "cell_type": "markdown",
   "metadata": {
    "toc": true
   },
   "source": [
    "<h1>Table of Contents<span class=\"tocSkip\"></span></h1>\n",
    "<div class=\"toc\"><ul class=\"toc-item\"><li><span><a href=\"#Hypothesis-Testing---Heart-disease-data\" data-toc-modified-id=\"Hypothesis-Testing---Heart-disease-data-1\"><span class=\"toc-item-num\">1&nbsp;&nbsp;</span>Hypothesis Testing - Heart disease data</a></span></li><li><span><a href=\"#Load-in-the-data\" data-toc-modified-id=\"Load-in-the-data-2\"><span class=\"toc-item-num\">2&nbsp;&nbsp;</span>Load in the data</a></span><ul class=\"toc-item\"><li><span><a href=\"#Patients-with-heart-disease\" data-toc-modified-id=\"Patients-with-heart-disease-2.1\"><span class=\"toc-item-num\">2.1&nbsp;&nbsp;</span>Patients with heart disease</a></span></li><li><span><a href=\"#Patients-without-heart-disease\" data-toc-modified-id=\"Patients-without-heart-disease-2.2\"><span class=\"toc-item-num\">2.2&nbsp;&nbsp;</span>Patients without heart disease</a></span></li></ul></li><li><span><a href=\"#Initial-T-tests-and-binomial-tests\" data-toc-modified-id=\"Initial-T-tests-and-binomial-tests-3\"><span class=\"toc-item-num\">3&nbsp;&nbsp;</span>Initial T-tests and binomial tests</a></span><ul class=\"toc-item\"><li><span><a href=\"#One-sample-T-tests\" data-toc-modified-id=\"One-sample-T-tests-3.1\"><span class=\"toc-item-num\">3.1&nbsp;&nbsp;</span>One-sample T-tests</a></span><ul class=\"toc-item\"><li><span><a href=\"#Results\" data-toc-modified-id=\"Results-3.1.1\"><span class=\"toc-item-num\">3.1.1&nbsp;&nbsp;</span>Results</a></span></li></ul></li><li><span><a href=\"#Binomial-Test\" data-toc-modified-id=\"Binomial-Test-3.2\"><span class=\"toc-item-num\">3.2&nbsp;&nbsp;</span>Binomial Test</a></span><ul class=\"toc-item\"><li><span><a href=\"#Results\" data-toc-modified-id=\"Results-3.2.1\"><span class=\"toc-item-num\">3.2.1&nbsp;&nbsp;</span>Results</a></span></li></ul></li></ul></li><li><span><a href=\"#Testing-other-features-for-both-groups-of-patients\" data-toc-modified-id=\"Testing-other-features-for-both-groups-of-patients-4\"><span class=\"toc-item-num\">4&nbsp;&nbsp;</span>Testing other features for both groups of patients</a></span><ul class=\"toc-item\"><li><span><a href=\"#Box-plot-of-thalach-for-both-groups\" data-toc-modified-id=\"Box-plot-of-thalach-for-both-groups-4.1\"><span class=\"toc-item-num\">4.1&nbsp;&nbsp;</span>Box plot of <code>thalach</code> for both groups</a></span></li><li><span><a href=\"#Two-sample-T-tests\" data-toc-modified-id=\"Two-sample-T-tests-4.2\"><span class=\"toc-item-num\">4.2&nbsp;&nbsp;</span>Two-sample T-tests</a></span><ul class=\"toc-item\"><li><span><a href=\"#Result\" data-toc-modified-id=\"Result-4.2.1\"><span class=\"toc-item-num\">4.2.1&nbsp;&nbsp;</span>Result</a></span></li></ul></li><li><span><a href=\"#Box-plot-&amp;-T-test-of-age-for-both-groups\" data-toc-modified-id=\"Box-plot-&amp;-T-test-of-age-for-both-groups-4.3\"><span class=\"toc-item-num\">4.3&nbsp;&nbsp;</span>Box plot &amp; T-test of <code>age</code> for both groups</a></span><ul class=\"toc-item\"><li><span><a href=\"#Result\" data-toc-modified-id=\"Result-4.3.1\"><span class=\"toc-item-num\">4.3.1&nbsp;&nbsp;</span>Result</a></span></li></ul></li><li><span><a href=\"#Box-plot-&amp;-T-test-of-trestbps-for-both-groups\" data-toc-modified-id=\"Box-plot-&amp;-T-test-of-trestbps-for-both-groups-4.4\"><span class=\"toc-item-num\">4.4&nbsp;&nbsp;</span>Box plot &amp; T-test of <code>trestbps</code> for both groups</a></span><ul class=\"toc-item\"><li><span><a href=\"#Result\" data-toc-modified-id=\"Result-4.4.1\"><span class=\"toc-item-num\">4.4.1&nbsp;&nbsp;</span>Result</a></span></li></ul></li><li><span><a href=\"#Box-plot-and-T-test-of-chol-for-both-groups\" data-toc-modified-id=\"Box-plot-and-T-test-of-chol-for-both-groups-4.5\"><span class=\"toc-item-num\">4.5&nbsp;&nbsp;</span>Box plot and T-test of <code>chol</code> for both groups</a></span><ul class=\"toc-item\"><li><span><a href=\"#Result\" data-toc-modified-id=\"Result-4.5.1\"><span class=\"toc-item-num\">4.5.1&nbsp;&nbsp;</span>Result</a></span></li></ul></li><li><span><a href=\"#Splitting-thalach-according-to-the-cp-column\" data-toc-modified-id=\"Splitting-thalach-according-to-the-cp-column-4.6\"><span class=\"toc-item-num\">4.6&nbsp;&nbsp;</span>Splitting <code>thalach</code> according to the <code>cp</code> column</a></span><ul class=\"toc-item\"><li><span><a href=\"#box-plot-of-thalach-based-on-cp\" data-toc-modified-id=\"box-plot-of-thalach-based-on-cp-4.6.1\"><span class=\"toc-item-num\">4.6.1&nbsp;&nbsp;</span>box plot of <code>thalach</code> based on <code>cp</code></a></span></li><li><span><a href=\"#Significance-testing-these-results\" data-toc-modified-id=\"Significance-testing-these-results-4.6.2\"><span class=\"toc-item-num\">4.6.2&nbsp;&nbsp;</span>Significance testing these results</a></span><ul class=\"toc-item\"><li><span><a href=\"#ANOVA\" data-toc-modified-id=\"ANOVA-4.6.2.1\"><span class=\"toc-item-num\">4.6.2.1&nbsp;&nbsp;</span>ANOVA</a></span></li><li><span><a href=\"#Result\" data-toc-modified-id=\"Result-4.6.2.2\"><span class=\"toc-item-num\">4.6.2.2&nbsp;&nbsp;</span>Result</a></span></li><li><span><a href=\"#Pairwise-Tukey's-Test\" data-toc-modified-id=\"Pairwise-Tukey's-Test-4.6.2.3\"><span class=\"toc-item-num\">4.6.2.3&nbsp;&nbsp;</span>Pairwise Tukey's Test</a></span></li><li><span><a href=\"#Result\" data-toc-modified-id=\"Result-4.6.2.4\"><span class=\"toc-item-num\">4.6.2.4&nbsp;&nbsp;</span>Result</a></span></li><li><span><a href=\"#Chi-Square-Test\" data-toc-modified-id=\"Chi-Square-Test-4.6.2.5\"><span class=\"toc-item-num\">4.6.2.5&nbsp;&nbsp;</span>Chi-Square Test</a></span></li><li><span><a href=\"#Result\" data-toc-modified-id=\"Result-4.6.2.6\"><span class=\"toc-item-num\">4.6.2.6&nbsp;&nbsp;</span>Result</a></span></li></ul></li></ul></li></ul></li></ul></div>"
   ]
  },
  {
   "cell_type": "code",
   "execution_count": 1,
   "metadata": {},
   "outputs": [],
   "source": [
    "import pandas as pd\n",
    "import numpy as np\n",
    "import seaborn as sns\n",
    "import matplotlib.pyplot as plt\n",
    "from scipy.stats import ttest_1samp\n",
    "from scipy.stats import binom_test\n",
    "from scipy.stats import ttest_ind\n",
    "from scipy.stats import f_oneway\n",
    "from statsmodels.stats.multicomp import pairwise_tukeyhsd\n",
    "from scipy.stats import chi2_contingency"
   ]
  },
  {
   "cell_type": "markdown",
   "metadata": {},
   "source": [
    "# Hypothesis Testing - Heart disease data"
   ]
  },
  {
   "cell_type": "markdown",
   "metadata": {},
   "source": [
    "This project uses heart disease data from UCI's machine learning repo.\n",
    "\n",
    "The purpose of this project is to perform a number of hypothesis tests on the data to find significant factors affecting both heart disease patients and those who do not have heart disease."
   ]
  },
  {
   "cell_type": "markdown",
   "metadata": {},
   "source": [
    "# Load in the data"
   ]
  },
  {
   "cell_type": "markdown",
   "metadata": {},
   "source": [
    "The data will be loaded in, and two new DataFrames created - one for all patients with heart disease, and one for all patients without heart disease."
   ]
  },
  {
   "cell_type": "code",
   "execution_count": 2,
   "metadata": {},
   "outputs": [
    {
     "data": {
      "text/html": [
       "<div>\n",
       "<style scoped>\n",
       "    .dataframe tbody tr th:only-of-type {\n",
       "        vertical-align: middle;\n",
       "    }\n",
       "\n",
       "    .dataframe tbody tr th {\n",
       "        vertical-align: top;\n",
       "    }\n",
       "\n",
       "    .dataframe thead th {\n",
       "        text-align: right;\n",
       "    }\n",
       "</style>\n",
       "<table border=\"1\" class=\"dataframe\">\n",
       "  <thead>\n",
       "    <tr style=\"text-align: right;\">\n",
       "      <th></th>\n",
       "      <th>age</th>\n",
       "      <th>sex</th>\n",
       "      <th>trestbps</th>\n",
       "      <th>chol</th>\n",
       "      <th>cp</th>\n",
       "      <th>exang</th>\n",
       "      <th>fbs</th>\n",
       "      <th>thalach</th>\n",
       "      <th>heart_disease</th>\n",
       "    </tr>\n",
       "  </thead>\n",
       "  <tbody>\n",
       "    <tr>\n",
       "      <th>0</th>\n",
       "      <td>63.0</td>\n",
       "      <td>male</td>\n",
       "      <td>145.0</td>\n",
       "      <td>233.0</td>\n",
       "      <td>typical angina</td>\n",
       "      <td>0.0</td>\n",
       "      <td>1.0</td>\n",
       "      <td>150.0</td>\n",
       "      <td>absence</td>\n",
       "    </tr>\n",
       "    <tr>\n",
       "      <th>1</th>\n",
       "      <td>67.0</td>\n",
       "      <td>male</td>\n",
       "      <td>160.0</td>\n",
       "      <td>286.0</td>\n",
       "      <td>asymptomatic</td>\n",
       "      <td>1.0</td>\n",
       "      <td>0.0</td>\n",
       "      <td>108.0</td>\n",
       "      <td>presence</td>\n",
       "    </tr>\n",
       "    <tr>\n",
       "      <th>2</th>\n",
       "      <td>67.0</td>\n",
       "      <td>male</td>\n",
       "      <td>120.0</td>\n",
       "      <td>229.0</td>\n",
       "      <td>asymptomatic</td>\n",
       "      <td>1.0</td>\n",
       "      <td>0.0</td>\n",
       "      <td>129.0</td>\n",
       "      <td>presence</td>\n",
       "    </tr>\n",
       "    <tr>\n",
       "      <th>3</th>\n",
       "      <td>37.0</td>\n",
       "      <td>male</td>\n",
       "      <td>130.0</td>\n",
       "      <td>250.0</td>\n",
       "      <td>non-anginal pain</td>\n",
       "      <td>0.0</td>\n",
       "      <td>0.0</td>\n",
       "      <td>187.0</td>\n",
       "      <td>absence</td>\n",
       "    </tr>\n",
       "    <tr>\n",
       "      <th>4</th>\n",
       "      <td>41.0</td>\n",
       "      <td>female</td>\n",
       "      <td>130.0</td>\n",
       "      <td>204.0</td>\n",
       "      <td>atypical angina</td>\n",
       "      <td>0.0</td>\n",
       "      <td>0.0</td>\n",
       "      <td>172.0</td>\n",
       "      <td>absence</td>\n",
       "    </tr>\n",
       "  </tbody>\n",
       "</table>\n",
       "</div>"
      ],
      "text/plain": [
       "    age     sex  trestbps   chol                cp  exang  fbs  thalach  \\\n",
       "0  63.0    male     145.0  233.0    typical angina    0.0  1.0    150.0   \n",
       "1  67.0    male     160.0  286.0      asymptomatic    1.0  0.0    108.0   \n",
       "2  67.0    male     120.0  229.0      asymptomatic    1.0  0.0    129.0   \n",
       "3  37.0    male     130.0  250.0  non-anginal pain    0.0  0.0    187.0   \n",
       "4  41.0  female     130.0  204.0   atypical angina    0.0  0.0    172.0   \n",
       "\n",
       "  heart_disease  \n",
       "0       absence  \n",
       "1      presence  \n",
       "2      presence  \n",
       "3       absence  \n",
       "4       absence  "
      ]
     },
     "execution_count": 2,
     "metadata": {},
     "output_type": "execute_result"
    }
   ],
   "source": [
    "heart = pd.read_csv('heart_disease.csv')\n",
    "yes_hd = heart[heart.heart_disease == 'presence'] # DF with heard disease\n",
    "no_hd = heart[heart.heart_disease == 'absence'] # DF without heart disease\n",
    "heart.head()"
   ]
  },
  {
   "cell_type": "markdown",
   "metadata": {},
   "source": [
    "## Patients with heart disease"
   ]
  },
  {
   "cell_type": "code",
   "execution_count": 3,
   "metadata": {},
   "outputs": [
    {
     "data": {
      "text/html": [
       "<div>\n",
       "<style scoped>\n",
       "    .dataframe tbody tr th:only-of-type {\n",
       "        vertical-align: middle;\n",
       "    }\n",
       "\n",
       "    .dataframe tbody tr th {\n",
       "        vertical-align: top;\n",
       "    }\n",
       "\n",
       "    .dataframe thead th {\n",
       "        text-align: right;\n",
       "    }\n",
       "</style>\n",
       "<table border=\"1\" class=\"dataframe\">\n",
       "  <thead>\n",
       "    <tr style=\"text-align: right;\">\n",
       "      <th></th>\n",
       "      <th>age</th>\n",
       "      <th>sex</th>\n",
       "      <th>trestbps</th>\n",
       "      <th>chol</th>\n",
       "      <th>cp</th>\n",
       "      <th>exang</th>\n",
       "      <th>fbs</th>\n",
       "      <th>thalach</th>\n",
       "      <th>heart_disease</th>\n",
       "    </tr>\n",
       "  </thead>\n",
       "  <tbody>\n",
       "    <tr>\n",
       "      <th>1</th>\n",
       "      <td>67.0</td>\n",
       "      <td>male</td>\n",
       "      <td>160.0</td>\n",
       "      <td>286.0</td>\n",
       "      <td>asymptomatic</td>\n",
       "      <td>1.0</td>\n",
       "      <td>0.0</td>\n",
       "      <td>108.0</td>\n",
       "      <td>presence</td>\n",
       "    </tr>\n",
       "    <tr>\n",
       "      <th>2</th>\n",
       "      <td>67.0</td>\n",
       "      <td>male</td>\n",
       "      <td>120.0</td>\n",
       "      <td>229.0</td>\n",
       "      <td>asymptomatic</td>\n",
       "      <td>1.0</td>\n",
       "      <td>0.0</td>\n",
       "      <td>129.0</td>\n",
       "      <td>presence</td>\n",
       "    </tr>\n",
       "    <tr>\n",
       "      <th>6</th>\n",
       "      <td>62.0</td>\n",
       "      <td>female</td>\n",
       "      <td>140.0</td>\n",
       "      <td>268.0</td>\n",
       "      <td>asymptomatic</td>\n",
       "      <td>0.0</td>\n",
       "      <td>0.0</td>\n",
       "      <td>160.0</td>\n",
       "      <td>presence</td>\n",
       "    </tr>\n",
       "    <tr>\n",
       "      <th>8</th>\n",
       "      <td>63.0</td>\n",
       "      <td>male</td>\n",
       "      <td>130.0</td>\n",
       "      <td>254.0</td>\n",
       "      <td>asymptomatic</td>\n",
       "      <td>0.0</td>\n",
       "      <td>0.0</td>\n",
       "      <td>147.0</td>\n",
       "      <td>presence</td>\n",
       "    </tr>\n",
       "    <tr>\n",
       "      <th>9</th>\n",
       "      <td>53.0</td>\n",
       "      <td>male</td>\n",
       "      <td>140.0</td>\n",
       "      <td>203.0</td>\n",
       "      <td>asymptomatic</td>\n",
       "      <td>1.0</td>\n",
       "      <td>1.0</td>\n",
       "      <td>155.0</td>\n",
       "      <td>presence</td>\n",
       "    </tr>\n",
       "  </tbody>\n",
       "</table>\n",
       "</div>"
      ],
      "text/plain": [
       "    age     sex  trestbps   chol            cp  exang  fbs  thalach  \\\n",
       "1  67.0    male     160.0  286.0  asymptomatic    1.0  0.0    108.0   \n",
       "2  67.0    male     120.0  229.0  asymptomatic    1.0  0.0    129.0   \n",
       "6  62.0  female     140.0  268.0  asymptomatic    0.0  0.0    160.0   \n",
       "8  63.0    male     130.0  254.0  asymptomatic    0.0  0.0    147.0   \n",
       "9  53.0    male     140.0  203.0  asymptomatic    1.0  1.0    155.0   \n",
       "\n",
       "  heart_disease  \n",
       "1      presence  \n",
       "2      presence  \n",
       "6      presence  \n",
       "8      presence  \n",
       "9      presence  "
      ]
     },
     "execution_count": 3,
     "metadata": {},
     "output_type": "execute_result"
    }
   ],
   "source": [
    "yes_hd.head()"
   ]
  },
  {
   "cell_type": "markdown",
   "metadata": {},
   "source": [
    "## Patients without heart disease"
   ]
  },
  {
   "cell_type": "code",
   "execution_count": 4,
   "metadata": {},
   "outputs": [
    {
     "data": {
      "text/html": [
       "<div>\n",
       "<style scoped>\n",
       "    .dataframe tbody tr th:only-of-type {\n",
       "        vertical-align: middle;\n",
       "    }\n",
       "\n",
       "    .dataframe tbody tr th {\n",
       "        vertical-align: top;\n",
       "    }\n",
       "\n",
       "    .dataframe thead th {\n",
       "        text-align: right;\n",
       "    }\n",
       "</style>\n",
       "<table border=\"1\" class=\"dataframe\">\n",
       "  <thead>\n",
       "    <tr style=\"text-align: right;\">\n",
       "      <th></th>\n",
       "      <th>age</th>\n",
       "      <th>sex</th>\n",
       "      <th>trestbps</th>\n",
       "      <th>chol</th>\n",
       "      <th>cp</th>\n",
       "      <th>exang</th>\n",
       "      <th>fbs</th>\n",
       "      <th>thalach</th>\n",
       "      <th>heart_disease</th>\n",
       "    </tr>\n",
       "  </thead>\n",
       "  <tbody>\n",
       "    <tr>\n",
       "      <th>0</th>\n",
       "      <td>63.0</td>\n",
       "      <td>male</td>\n",
       "      <td>145.0</td>\n",
       "      <td>233.0</td>\n",
       "      <td>typical angina</td>\n",
       "      <td>0.0</td>\n",
       "      <td>1.0</td>\n",
       "      <td>150.0</td>\n",
       "      <td>absence</td>\n",
       "    </tr>\n",
       "    <tr>\n",
       "      <th>3</th>\n",
       "      <td>37.0</td>\n",
       "      <td>male</td>\n",
       "      <td>130.0</td>\n",
       "      <td>250.0</td>\n",
       "      <td>non-anginal pain</td>\n",
       "      <td>0.0</td>\n",
       "      <td>0.0</td>\n",
       "      <td>187.0</td>\n",
       "      <td>absence</td>\n",
       "    </tr>\n",
       "    <tr>\n",
       "      <th>4</th>\n",
       "      <td>41.0</td>\n",
       "      <td>female</td>\n",
       "      <td>130.0</td>\n",
       "      <td>204.0</td>\n",
       "      <td>atypical angina</td>\n",
       "      <td>0.0</td>\n",
       "      <td>0.0</td>\n",
       "      <td>172.0</td>\n",
       "      <td>absence</td>\n",
       "    </tr>\n",
       "    <tr>\n",
       "      <th>5</th>\n",
       "      <td>56.0</td>\n",
       "      <td>male</td>\n",
       "      <td>120.0</td>\n",
       "      <td>236.0</td>\n",
       "      <td>atypical angina</td>\n",
       "      <td>0.0</td>\n",
       "      <td>0.0</td>\n",
       "      <td>178.0</td>\n",
       "      <td>absence</td>\n",
       "    </tr>\n",
       "    <tr>\n",
       "      <th>7</th>\n",
       "      <td>57.0</td>\n",
       "      <td>female</td>\n",
       "      <td>120.0</td>\n",
       "      <td>354.0</td>\n",
       "      <td>asymptomatic</td>\n",
       "      <td>1.0</td>\n",
       "      <td>0.0</td>\n",
       "      <td>163.0</td>\n",
       "      <td>absence</td>\n",
       "    </tr>\n",
       "  </tbody>\n",
       "</table>\n",
       "</div>"
      ],
      "text/plain": [
       "    age     sex  trestbps   chol                cp  exang  fbs  thalach  \\\n",
       "0  63.0    male     145.0  233.0    typical angina    0.0  1.0    150.0   \n",
       "3  37.0    male     130.0  250.0  non-anginal pain    0.0  0.0    187.0   \n",
       "4  41.0  female     130.0  204.0   atypical angina    0.0  0.0    172.0   \n",
       "5  56.0    male     120.0  236.0   atypical angina    0.0  0.0    178.0   \n",
       "7  57.0  female     120.0  354.0      asymptomatic    1.0  0.0    163.0   \n",
       "\n",
       "  heart_disease  \n",
       "0       absence  \n",
       "3       absence  \n",
       "4       absence  \n",
       "5       absence  \n",
       "7       absence  "
      ]
     },
     "execution_count": 4,
     "metadata": {},
     "output_type": "execute_result"
    }
   ],
   "source": [
    "no_hd.head()"
   ]
  },
  {
   "cell_type": "markdown",
   "metadata": {},
   "source": [
    "# Initial T-tests and binomial tests "
   ]
  },
  {
   "cell_type": "markdown",
   "metadata": {},
   "source": [
    "## One-sample T-tests"
   ]
  },
  {
   "cell_type": "markdown",
   "metadata": {},
   "source": [
    "First, we will look at the cholesterol for both sets of patients.\n",
    "\n",
    "The typical threshold for defining high cholesterol is 240. So this will be the value that is used in the t-tests.\n",
    "\n",
    "As the test being used is the two-sided t-test, the p-value will be divided by 2 in each case."
   ]
  },
  {
   "cell_type": "code",
   "execution_count": 5,
   "metadata": {},
   "outputs": [
    {
     "name": "stdout",
     "output_type": "stream",
     "text": [
      "251.4748201438849\n"
     ]
    }
   ],
   "source": [
    "# get cholesterol levels for patients with heart disease and find the mean\n",
    "chol_hd = yes_hd.chol\n",
    "print(np.mean(chol_hd))"
   ]
  },
  {
   "cell_type": "code",
   "execution_count": 8,
   "metadata": {},
   "outputs": [
    {
     "name": "stdout",
     "output_type": "stream",
     "text": [
      "p-value for patients with heart disease:  0.0035\n"
     ]
    }
   ],
   "source": [
    "# compare this mean to the cutoff for high colesterol (which is 240)\n",
    "tstat, pval = ttest_1samp(chol_hd, 240)\n",
    "print(\"p-value for patients with heart disease: \", round(pval/2, 4))"
   ]
  },
  {
   "cell_type": "code",
   "execution_count": 9,
   "metadata": {},
   "outputs": [
    {
     "name": "stdout",
     "output_type": "stream",
     "text": [
      "242.640243902439\n"
     ]
    }
   ],
   "source": [
    "# get cholesterol levels for patients without heart disease and find the mean\n",
    "chol_no_hd = no_hd.chol\n",
    "print(np.mean(chol_no_hd))"
   ]
  },
  {
   "cell_type": "code",
   "execution_count": 14,
   "metadata": {},
   "outputs": [
    {
     "name": "stdout",
     "output_type": "stream",
     "text": [
      "p-value for patients without heart disease:  0.264\n"
     ]
    }
   ],
   "source": [
    "# compare the mean for patients without heart disease to the threshold\n",
    "tstat, pval = ttest_1samp(chol_no_hd, 240)\n",
    "print(\"p-value for patients without heart disease: \", round(pval/2, 4))"
   ]
  },
  {
   "cell_type": "markdown",
   "metadata": {},
   "source": [
    "### Results"
   ]
  },
  {
   "cell_type": "markdown",
   "metadata": {},
   "source": [
    "The threshold for the t-test to be significant is p < 0.05. For the first t-test i.e. comparing the mean cholesterol levels for those with heart disease to the threshold beyond which is defined as \"high\", the p-value is much lower than 0.05. By comparison, there is no significance in the observation of the mean value of the patients without heart disease as the p-value is much larger (0.26).\n",
    "\n",
    "This means that there is statistical significance regarding the cholesterol level for patients with heart disease vs those without.\n",
    "\n",
    "People with heart disease have significantly higher cholesterol."
   ]
  },
  {
   "cell_type": "markdown",
   "metadata": {},
   "source": [
    "## Binomial Test"
   ]
  },
  {
   "cell_type": "markdown",
   "metadata": {},
   "source": [
    "Now we will look at the `fbs` column and run a binomial test. This stands for \"fasting blood sugar\".\n",
    "\n",
    "In the dataset, high fasting blood sugar is recorded as 1 and low is recorded as 0.\n",
    "\n",
    "For this we need an expected value for high fasting blood sugar within a population - this is taken as 8%, and this will be the null hypothesis."
   ]
  },
  {
   "cell_type": "code",
   "execution_count": 10,
   "metadata": {},
   "outputs": [
    {
     "name": "stdout",
     "output_type": "stream",
     "text": [
      "303\n"
     ]
    }
   ],
   "source": [
    "# the number of patients\n",
    "num_patients = len(heart)\n",
    "print(num_patients)"
   ]
  },
  {
   "cell_type": "code",
   "execution_count": 11,
   "metadata": {},
   "outputs": [
    {
     "data": {
      "text/plain": [
       "array([1., 0.])"
      ]
     },
     "execution_count": 11,
     "metadata": {},
     "output_type": "execute_result"
    }
   ],
   "source": [
    "# find the number of unique values for the fbs column\n",
    "fbs_vals = heart['fbs'].unique()\n",
    "fbs_vals"
   ]
  },
  {
   "cell_type": "code",
   "execution_count": 12,
   "metadata": {},
   "outputs": [
    {
     "name": "stdout",
     "output_type": "stream",
     "text": [
      "45.0\n"
     ]
    }
   ],
   "source": [
    "# the number of patients with fbs = 1\n",
    "num_highfbs_patients = np.sum(heart.fbs)\n",
    "print(num_highfbs_patients)"
   ]
  },
  {
   "cell_type": "code",
   "execution_count": 13,
   "metadata": {},
   "outputs": [
    {
     "name": "stdout",
     "output_type": "stream",
     "text": [
      "24.240000000000002\n"
     ]
    }
   ],
   "source": [
    "# calculate 8% of sample size\n",
    "print(0.08*num_patients)"
   ]
  },
  {
   "cell_type": "code",
   "execution_count": 14,
   "metadata": {},
   "outputs": [
    {
     "name": "stdout",
     "output_type": "stream",
     "text": [
      "4.689471951449078e-05\n"
     ]
    }
   ],
   "source": [
    "# run a binomial test on this result\n",
    "pval = binom_test(num_highfbs_patients, num_patients, .08, alternative='greater')\n",
    "print(pval)"
   ]
  },
  {
   "cell_type": "markdown",
   "metadata": {},
   "source": [
    "### Results"
   ]
  },
  {
   "cell_type": "markdown",
   "metadata": {},
   "source": [
    "There were 45 people with high fasting blood sugar vs an expected number of 25. \n",
    "\n",
    "The p-value for this observation is extremely small (0.000047).\n",
    "\n",
    "This means that we can reject the null hypothesis - that 8% of people will have high fasting blood sugar - and instead accept the alternative hypothesis that more than 8% of people will have high fasting blood sugar."
   ]
  },
  {
   "cell_type": "markdown",
   "metadata": {},
   "source": [
    "# Testing other features for both groups of patients"
   ]
  },
  {
   "cell_type": "markdown",
   "metadata": {},
   "source": [
    "## Box plot of `thalach` for both groups"
   ]
  },
  {
   "cell_type": "markdown",
   "metadata": {},
   "source": [
    "This is defined as the maximum heart rate achieved by the patient. It would be expected that this value is typically higher for those without heart disease vs those with."
   ]
  },
  {
   "cell_type": "code",
   "execution_count": 15,
   "metadata": {},
   "outputs": [
    {
     "data": {
      "image/png": "[encoded data removed]",
      "text/plain": [
       "<Figure size 432x288 with 1 Axes>"
      ]
     },
     "metadata": {
      "needs_background": "light"
     },
     "output_type": "display_data"
    }
   ],
   "source": [
    "# box plot of `thalach` based on heart disease\n",
    "sns.boxplot(x=heart.heart_disease, y=heart.thalach)\n",
    "plt.show()"
   ]
  },
  {
   "cell_type": "markdown",
   "metadata": {},
   "source": [
    "## Two-sample T-tests"
   ]
  },
  {
   "cell_type": "code",
   "execution_count": 16,
   "metadata": {},
   "outputs": [],
   "source": [
    "# saving separate dataframes for thalach for patients with and without heart disease\n",
    "thalach_hd = heart.thalach[heart.heart_disease == 'presence']\n",
    "thalach_no_hd = heart.thalach[heart.heart_disease == 'absence']"
   ]
  },
  {
   "cell_type": "code",
   "execution_count": 17,
   "metadata": {},
   "outputs": [
    {
     "name": "stdout",
     "output_type": "stream",
     "text": [
      "'thalach' mean Difference:  19.11905597473242\n"
     ]
    }
   ],
   "source": [
    "# calculating the mean difference between the two dataframes\n",
    "mean_diff = np.mean(thalach_no_hd) - np.mean(thalach_hd)\n",
    "print(\"'thalach' mean difference: \", mean_diff)"
   ]
  },
  {
   "cell_type": "code",
   "execution_count": 18,
   "metadata": {},
   "outputs": [
    {
     "name": "stdout",
     "output_type": "stream",
     "text": [
      "'thalach' median Difference:  19.0\n"
     ]
    }
   ],
   "source": [
    "# also finding the median difference\n",
    "# calculate and print median difference\n",
    "med_diff = np.median(thalach_no_hd) - np.median(thalach_hd)\n",
    "print(\"'thalach' median difference: \", med_diff)"
   ]
  },
  {
   "cell_type": "code",
   "execution_count": 19,
   "metadata": {},
   "outputs": [
    {
     "name": "stdout",
     "output_type": "stream",
     "text": [
      "p-value for 'thalach' two-sample t-test:  3.456964908430172e-14\n"
     ]
    }
   ],
   "source": [
    "# running a two-sample t-test\n",
    "tstat, pval = ttest_ind(thalach_hd, thalach_no_hd)\n",
    "print(\"p-value for 'thalach' two-sample t-test: \", pval)"
   ]
  },
  {
   "cell_type": "markdown",
   "metadata": {},
   "source": [
    "### Result"
   ]
  },
  {
   "cell_type": "markdown",
   "metadata": {},
   "source": [
    "There is a highly significant difference between the `thalach` value for those with and those without heart disease as the p-value for the t-test is much lower than the significance threshold of 0.05."
   ]
  },
  {
   "cell_type": "markdown",
   "metadata": {},
   "source": [
    "## Box plot & T-test of `age` for both groups"
   ]
  },
  {
   "cell_type": "code",
   "execution_count": 20,
   "metadata": {},
   "outputs": [
    {
     "data": {
      "image/png": "[encoded data removed]",
      "text/plain": [
       "<Figure size 432x288 with 1 Axes>"
      ]
     },
     "metadata": {
      "needs_background": "light"
     },
     "output_type": "display_data"
    },
    {
     "name": "stdout",
     "output_type": "stream",
     "text": [
      "'age' mean Difference:  4.040533426917001\n",
      "'age' median Difference:  6.0\n",
      "p-value for 'age' two-sample t-test:  8.955636917529706e-05\n"
     ]
    }
   ],
   "source": [
    "# age\n",
    "plt.clf()\n",
    "sns.boxplot(x=heart.heart_disease, y=heart.age)\n",
    "plt.show()\n",
    "age_hd = heart.age[heart.heart_disease == 'presence']\n",
    "age_no_hd = heart.age[heart.heart_disease == 'absence']\n",
    "mean_diff = np.mean(age_hd) - np.mean(age_no_hd)\n",
    "print(\"'age' mean Difference: \", mean_diff)\n",
    "med_diff = np.median(age_hd) - np.median(age_no_hd)\n",
    "print(\"'age' median Difference: \", med_diff)\n",
    "tstat, pval = ttest_ind(age_hd, age_no_hd)\n",
    "print(\"p-value for 'age' two-sample t-test: \", pval)"
   ]
  },
  {
   "cell_type": "markdown",
   "metadata": {},
   "source": [
    "### Result"
   ]
  },
  {
   "cell_type": "markdown",
   "metadata": {},
   "source": [
    "The effect of age on the presence of heart disease vs absence is highly significant as the p-value returned by the t-test is much lower than the threshold of 0.05."
   ]
  },
  {
   "cell_type": "markdown",
   "metadata": {},
   "source": [
    "## Box plot & T-test of `trestbps` for both groups"
   ]
  },
  {
   "cell_type": "markdown",
   "metadata": {},
   "source": [
    "This is the patients' resting blood pressure."
   ]
  },
  {
   "cell_type": "code",
   "execution_count": 21,
   "metadata": {},
   "outputs": [
    {
     "data": {
      "image/png": "[encoded data removed]",
      "text/plain": [
       "<Figure size 432x288 with 1 Axes>"
      ]
     },
     "metadata": {
      "needs_background": "light"
     },
     "output_type": "display_data"
    },
    {
     "name": "stdout",
     "output_type": "stream",
     "text": [
      "`trestbps` mean Difference:  5.318345323740999\n",
      "`trestbps` median Difference:  0.0\n",
      "p-value for `trestbps` two-sample t-test:  0.008548268928594928\n"
     ]
    }
   ],
   "source": [
    "# trestbps\n",
    "plt.clf()\n",
    "sns.boxplot(x=heart.heart_disease, y=heart.trestbps)\n",
    "plt.show()\n",
    "trestbps_hd = heart.trestbps[heart.heart_disease == 'presence']\n",
    "trestbps_no_hd = heart.trestbps[heart.heart_disease == 'absence']\n",
    "mean_diff = np.mean(trestbps_hd) - np.mean(trestbps_no_hd)\n",
    "print('`trestbps` mean Difference: ', mean_diff)\n",
    "med_diff = np.median(trestbps_hd) - np.median(trestbps_no_hd)\n",
    "print('`trestbps` median Difference: ', med_diff)\n",
    "tstat, pval = ttest_ind(trestbps_hd, trestbps_no_hd)\n",
    "print('p-value for `trestbps` two-sample t-test: ', pval)"
   ]
  },
  {
   "cell_type": "markdown",
   "metadata": {},
   "source": [
    "### Result"
   ]
  },
  {
   "cell_type": "markdown",
   "metadata": {},
   "source": [
    "There is a significant difference for the value of `trestbps` for patients with heart disease vs patients without heart disease as the t-test returned a p-value much lower than the threshold of 0.05."
   ]
  },
  {
   "cell_type": "markdown",
   "metadata": {},
   "source": [
    "## Box plot and T-test of `chol` for both groups"
   ]
  },
  {
   "cell_type": "code",
   "execution_count": 22,
   "metadata": {},
   "outputs": [
    {
     "data": {
      "image/png": "[encoded data removed]",
      "text/plain": [
       "<Figure size 432x288 with 1 Axes>"
      ]
     },
     "metadata": {
      "needs_background": "light"
     },
     "output_type": "display_data"
    },
    {
     "name": "stdout",
     "output_type": "stream",
     "text": [
      "`chol` mean Difference:  8.834576241445887\n",
      "`chol` median Difference:  14.5\n",
      "p-value for `chol` two-sample t-test:  0.13914167020436527\n"
     ]
    }
   ],
   "source": [
    "# chol\n",
    "plt.clf()\n",
    "sns.boxplot(x=heart.heart_disease, y=heart.chol)\n",
    "plt.show()\n",
    "chol_hd = heart.chol[heart.heart_disease == 'presence']\n",
    "chol_no_hd = heart.chol[heart.heart_disease == 'absence']\n",
    "mean_diff = np.mean(chol_hd) - np.mean(chol_no_hd)\n",
    "print('`chol` mean Difference: ', mean_diff)\n",
    "med_diff = np.median(chol_hd) - np.median(chol_no_hd)\n",
    "print('`chol` median Difference: ', med_diff)\n",
    "tstat, pval = ttest_ind(chol_hd, chol_no_hd)\n",
    "print('p-value for `chol` two-sample t-test: ', pval)"
   ]
  },
  {
   "cell_type": "markdown",
   "metadata": {},
   "source": [
    "### Result"
   ]
  },
  {
   "cell_type": "markdown",
   "metadata": {},
   "source": [
    "There is no significant difference between the `chol` measurements for patients with heart disease vs those without heart disease as the p-value returned by the t-test is higher than the significance threshold of 0.05."
   ]
  },
  {
   "cell_type": "markdown",
   "metadata": {},
   "source": [
    "## Splitting `thalach` according to the `cp` column"
   ]
  },
  {
   "cell_type": "markdown",
   "metadata": {},
   "source": [
    "### box plot of `thalach` based on `cp`"
   ]
  },
  {
   "cell_type": "markdown",
   "metadata": {},
   "source": [
    "`cp` stands for \"constrictive pericarditis\", and there are four possible categories.\n",
    "\n",
    "Splitting this feature based on the four possible `cp` values will allow for ANOVA to be carried out via the `f_oneway` test."
   ]
  },
  {
   "cell_type": "code",
   "execution_count": 23,
   "metadata": {},
   "outputs": [
    {
     "data": {
      "text/plain": [
       "array(['typical angina', 'asymptomatic', 'non-anginal pain',\n",
       "       'atypical angina'], dtype=object)"
      ]
     },
     "execution_count": 23,
     "metadata": {},
     "output_type": "execute_result"
    }
   ],
   "source": [
    "heart.cp.unique()"
   ]
  },
  {
   "cell_type": "code",
   "execution_count": 24,
   "metadata": {},
   "outputs": [
    {
     "data": {
      "image/png": "[encoded data removed]",
      "text/plain": [
       "<Figure size 432x288 with 1 Axes>"
      ]
     },
     "metadata": {
      "needs_background": "light"
     },
     "output_type": "display_data"
    }
   ],
   "source": [
    "plt.clf()\n",
    "sns.boxplot(x=heart.cp, y=heart.thalach)\n",
    "plt.show()"
   ]
  },
  {
   "cell_type": "markdown",
   "metadata": {},
   "source": [
    "### Significance testing these results"
   ]
  },
  {
   "cell_type": "code",
   "execution_count": 25,
   "metadata": {},
   "outputs": [],
   "source": [
    "# aggregating the `thalach` column by the `cp` categories\n",
    "thalach_typical = heart.thalach[heart.cp == 'typical angina']\n",
    "thalach_asymptom = heart.thalach[heart.cp == 'asymptomatic']\n",
    "thalach_nonangin = heart.thalach[heart.cp == 'non-anginal pain']\n",
    "thalach_atypical = heart.thalach[heart.cp == 'atypical angina']"
   ]
  },
  {
   "cell_type": "markdown",
   "metadata": {},
   "source": [
    "#### ANOVA"
   ]
  },
  {
   "cell_type": "markdown",
   "metadata": {},
   "source": [
    "The null hypothesis in this case is that there is no difference in means between the two distributions in the test."
   ]
  },
  {
   "cell_type": "code",
   "execution_count": 26,
   "metadata": {},
   "outputs": [
    {
     "name": "stdout",
     "output_type": "stream",
     "text": [
      "p-value for ANOVA:  1.9065505247705008e-10\n"
     ]
    }
   ],
   "source": [
    "Fstat, pval = f_oneway(thalach_typical, thalach_asymptom, thalach_nonangin, thalach_atypical)\n",
    "print('p-value for ANOVA: ', pval)"
   ]
  },
  {
   "cell_type": "markdown",
   "metadata": {},
   "source": [
    "#### Result"
   ]
  },
  {
   "cell_type": "markdown",
   "metadata": {},
   "source": [
    "There is a significant effect of `cp` on `thalach` as the p-value is much lower than the significance threshold of 0.05, and so the null hypothesis can be rejected."
   ]
  },
  {
   "cell_type": "markdown",
   "metadata": {},
   "source": [
    "#### Pairwise Tukey's Test"
   ]
  },
  {
   "cell_type": "markdown",
   "metadata": {},
   "source": [
    "This will show which measurements' means differ the most. The null hypothesis for this test is that the means are equal between all distributions in the test."
   ]
  },
  {
   "cell_type": "code",
   "execution_count": 27,
   "metadata": {},
   "outputs": [
    {
     "name": "stdout",
     "output_type": "stream",
     "text": [
      "           Multiple Comparison of Means - Tukey HSD, FWER=0.05           \n",
      "=========================================================================\n",
      "     group1           group2      meandiff p-adj   lower    upper  reject\n",
      "-------------------------------------------------------------------------\n",
      "    asymptomatic  atypical angina  21.7394  0.001  12.7439  30.735   True\n",
      "    asymptomatic non-anginal pain  14.7264  0.001    7.258 22.1948   True\n",
      "    asymptomatic   typical angina   15.276 0.0081   2.9702 27.5817   True\n",
      " atypical angina non-anginal pain   -7.013 0.2481 -16.7591   2.733  False\n",
      " atypical angina   typical angina  -6.4635 0.6069 -20.2707  7.3438  False\n",
      "non-anginal pain   typical angina   0.5495    0.9  -12.315 13.4141  False\n",
      "-------------------------------------------------------------------------\n"
     ]
    }
   ],
   "source": [
    "output = pairwise_tukeyhsd(heart.thalach, heart.cp)\n",
    "print(output)"
   ]
  },
  {
   "cell_type": "markdown",
   "metadata": {},
   "source": [
    "#### Result"
   ]
  },
  {
   "cell_type": "markdown",
   "metadata": {},
   "source": [
    "The `asymptomatic` value for `cp` is the one which has the greatest mean variation. For each of these the p-adj value is below the significance threshold of 0.05 and so the table shows that the null hypothesis should be rejected."
   ]
  },
  {
   "cell_type": "markdown",
   "metadata": {},
   "source": [
    "#### Chi-Square Test"
   ]
  },
  {
   "cell_type": "markdown",
   "metadata": {},
   "source": [
    "This will be used to test the association between the categorical values of the `cp` column and `absence` vs `presence` of heart disease.\n",
    "\n",
    "The null hypothesis in this test is that the categorical variables have no relationship, i.e. they are independent."
   ]
  },
  {
   "cell_type": "code",
   "execution_count": 28,
   "metadata": {},
   "outputs": [
    {
     "name": "stdout",
     "output_type": "stream",
     "text": [
      "heart_disease     absence  presence\n",
      "cp                                 \n",
      "asymptomatic           39       105\n",
      "atypical angina        41         9\n",
      "non-anginal pain       68        18\n",
      "typical angina         16         7\n"
     ]
    }
   ],
   "source": [
    "Xtab = pd.crosstab(heart.cp, heart.heart_disease)\n",
    "print(Xtab)"
   ]
  },
  {
   "cell_type": "code",
   "execution_count": 29,
   "metadata": {},
   "outputs": [
    {
     "name": "stdout",
     "output_type": "stream",
     "text": [
      "p-value for chi-square test:  1.2517106007837527e-17\n"
     ]
    }
   ],
   "source": [
    "chi2, pval, dof, exp = chi2_contingency(Xtab)\n",
    "print('p-value for chi-square test: ', pval)"
   ]
  },
  {
   "cell_type": "markdown",
   "metadata": {},
   "source": [
    "#### Result"
   ]
  },
  {
   "cell_type": "markdown",
   "metadata": {},
   "source": [
    "We can reject the null hypothesis as the p-value is far smaller than the critical value of 0.05. This means there is a relationship between the categorical variables and they are not independent."
   ]
  }
 ],
 "metadata": {
  "kernelspec": {
   "display_name": "Python 3",
   "language": "python",
   "name": "python3"
  },
  "language_info": {
   "codemirror_mode": {
    "name": "ipython",
    "version": 3
   },
   "file_extension": ".py",
   "mimetype": "text/x-python",
   "name": "python",
   "nbconvert_exporter": "python",
   "pygments_lexer": "ipython3",
   "version": "3.7.4"
  },
  "toc": {
   "base_numbering": 1,
   "nav_menu": {},
   "number_sections": true,
   "sideBar": true,
   "skip_h1_title": false,
   "title_cell": "Table of Contents",
   "title_sidebar": "Contents",
   "toc_cell": true,
   "toc_position": {},
   "toc_section_display": true,
   "toc_window_display": true
  },
  "varInspector": {
   "cols": {
    "lenName": 16,
    "lenType": 16,
    "lenVar": 40
   },
   "kernels_config": {
    "python": {
     "delete_cmd_postfix": "",
     "delete_cmd_prefix": "del ",
     "library": "var_list.py",
     "varRefreshCmd": "print(var_dic_list())"
    },
    "r": {
     "delete_cmd_postfix": ") ",
     "delete_cmd_prefix": "rm(",
     "library": "var_list.r",
     "varRefreshCmd": "cat(var_dic_list()) "
    }
   },
   "types_to_exclude": [
    "module",
    "function",
    "builtin_function_or_method",
    "instance",
    "_Feature"
   ],
   "window_display": false
  }
 },
 "nbformat": 4,
 "nbformat_minor": 4
}
